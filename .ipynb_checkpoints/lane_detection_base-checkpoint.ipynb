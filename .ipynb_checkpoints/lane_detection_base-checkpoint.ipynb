{
 "cells": [
  {
   "cell_type": "code",
   "execution_count": 1,
   "id": "3d2af46f",
   "metadata": {},
   "outputs": [
    {
     "name": "stdout",
     "output_type": "stream",
     "text": [
      "Requirement already satisfied: opencv-python in c:\\users\\saitu\\anaconda3\\lib\\site-packages (4.7.0.68)\n",
      "Requirement already satisfied: numpy>=1.19.3 in c:\\users\\saitu\\anaconda3\\lib\\site-packages (from opencv-python) (1.22.4)\n",
      "Note: you may need to restart the kernel to use updated packages.\n"
     ]
    }
   ],
   "source": [
    "pip install opencv-python"
   ]
  },
  {
   "cell_type": "code",
   "execution_count": 3,
   "id": "4a4aa4a0",
   "metadata": {},
   "outputs": [
    {
     "ename": "TypeError",
     "evalue": "can't multiply sequence by non-int of type 'float'",
     "output_type": "error",
     "traceback": [
      "\u001b[1;31m---------------------------------------------------------------------------\u001b[0m",
      "\u001b[1;31mTypeError\u001b[0m                                 Traceback (most recent call last)",
      "Input \u001b[1;32mIn [3]\u001b[0m, in \u001b[0;36m<cell line: 44>\u001b[1;34m()\u001b[0m\n\u001b[0;32m     45\u001b[0m video_path \u001b[38;5;241m=\u001b[39m \u001b[38;5;124m\"\u001b[39m\u001b[38;5;124m1.mp4\u001b[39m\u001b[38;5;124m\"\u001b[39m\n\u001b[0;32m     46\u001b[0m video \u001b[38;5;241m=\u001b[39m cv2\u001b[38;5;241m.\u001b[39mVideoCapture(video_path)\n\u001b[1;32m---> 47\u001b[0m lines, r \u001b[38;5;241m=\u001b[39m \u001b[43mget_lanes\u001b[49m\u001b[43m(\u001b[49m\u001b[43mvideo_path\u001b[49m\u001b[43m)\u001b[49m\n\u001b[0;32m     49\u001b[0m \u001b[38;5;28;01mwhile\u001b[39;00m \u001b[38;5;28;01mTrue\u001b[39;00m:\n\u001b[0;32m     50\u001b[0m     check, frame \u001b[38;5;241m=\u001b[39m video\u001b[38;5;241m.\u001b[39mread()\n",
      "Input \u001b[1;32mIn [3]\u001b[0m, in \u001b[0;36mget_lanes\u001b[1;34m(source)\u001b[0m\n\u001b[0;32m     35\u001b[0m \u001b[38;5;66;03m# Apply threshold\u001b[39;00m\n\u001b[0;32m     36\u001b[0m thresh \u001b[38;5;241m=\u001b[39m gray \u001b[38;5;241m=\u001b[39m cv2\u001b[38;5;241m.\u001b[39mthreshold(new_masked, \u001b[38;5;241m158\u001b[39m, \u001b[38;5;241m255\u001b[39m, cv2\u001b[38;5;241m.\u001b[39mTHRESH_BINARY)\n\u001b[1;32m---> 37\u001b[0m edges \u001b[38;5;241m=\u001b[39m cv2\u001b[38;5;241m.\u001b[39mCanny(gray, \u001b[38;5;241;43m0.3\u001b[39;49m\u001b[43m \u001b[49m\u001b[38;5;241;43m*\u001b[39;49m\u001b[43m \u001b[49m\u001b[43mthresh\u001b[49m, thresh)\n\u001b[0;32m     39\u001b[0m lane_lines \u001b[38;5;241m=\u001b[39m cv2\u001b[38;5;241m.\u001b[39mHoughLines(edges, \u001b[38;5;241m2\u001b[39m, np\u001b[38;5;241m.\u001b[39mpi\u001b[38;5;241m/\u001b[39m\u001b[38;5;241m180\u001b[39m, \u001b[38;5;241m30\u001b[39m, minLineLength\u001b[38;5;241m=\u001b[39m\u001b[38;5;241m15\u001b[39m, maxLineGap\u001b[38;5;241m=\u001b[39m\u001b[38;5;241m48\u001b[39m)\n\u001b[0;32m     41\u001b[0m \u001b[38;5;28;01mreturn\u001b[39;00m lane_lines, roi\n",
      "\u001b[1;31mTypeError\u001b[0m: can't multiply sequence by non-int of type 'float'"
     ]
    }
   ],
   "source": [
    "import cv2\n",
    "import numpy as np\n",
    "\n",
    "def get_lanes(source):\n",
    "    first_frame = None\n",
    "    roi = None\n",
    "    video = cv2.VideoCapture(source)\n",
    "    showCrosshair = False\n",
    "    fromCenter = False\n",
    "    lane_lines = None\n",
    "    \n",
    "    # Read only first frame and extract lines\n",
    "    if first_frame is None:\n",
    "        _, first_frame = video.read()\n",
    "        \n",
    "    # Use keyboard and get ROI area\n",
    "    roi = cv2.selectROI(\"Select area\", first_frame, fromCenter, showCrosshair)\n",
    "    \n",
    "    # Crop ROI\n",
    "    imCrop = first_frame[int(roi[1]):int(roi[1]+roi[3]), int(roi[0]):int(roi[0]+roi[2])]\n",
    "    \n",
    "    # Perform dilation to increase size of white color\n",
    "    kernel = np.ones((3,3), np.uint8)\n",
    "    first_frame = cv2.dilate(imCrop, kernel, iterations=1)\n",
    "    \n",
    "    # Convert to gray scale\n",
    "    gray = cv2.cvtColor(first_frame, cv2.COLOR_BGR2GRAY)\n",
    "    \n",
    "    # Threshold the gray image to get only white colors\n",
    "    white_lane_mask = cv2.inRange(gray, 215, 255)\n",
    "    \n",
    "    # Bitwise AND and generate mask\n",
    "    new_masked = cv2.bitwise_and(gray, gray, mask=white_lane_mask)\n",
    "    \n",
    "    # Apply threshold\n",
    "    thresh = gray = cv2.threshold(new_masked, 158, 255, cv2.THRESH_BINARY)\n",
    "    edges = cv2.Canny(gray, 0.3 * thresh, thresh)\n",
    "    \n",
    "    lane_lines = cv2.HoughLines(edges, 2, np.pi/180, 30, minLineLength=15, maxLineGap=48)\n",
    "    \n",
    "    return lane_lines, roi\n",
    "\n",
    "# This function is the unit test for the above function\n",
    "if __name__ == '__main__':\n",
    "    video_path = \"1.mp4\"\n",
    "    video = cv2.VideoCapture(video_path)\n",
    "    lines, r = get_lanes(video_path)\n",
    "    \n",
    "    while True:\n",
    "        check, frame = video.read()\n",
    "        if check == False:\n",
    "            break\n",
    "        \n",
    "        # Draw line\n",
    "        if lines is not None:\n",
    "            for line in lines:\n",
    "                x1 , y1, x2, y2 = line[0]\n",
    "                cv2.line(frame, (x1 + int(r[0]), y1 + int(r[1])), (x2 + int(r[0]), y2 + int(r[1])), (0, 255, 255), 3)\n",
    "        \n",
    "        # Display output\n",
    "        cv2.imshow(\"Demo\", frame)\n",
    "        \n",
    "        if cv2.waitKey(5) & 0xFF == ord('q'):\n",
    "            break\n",
    "    \n",
    "    video.release()\n",
    "    cv2.destroyAllWindows()\n"
   ]
  },
  {
   "cell_type": "code",
   "execution_count": null,
   "id": "011b1dd8",
   "metadata": {},
   "outputs": [],
   "source": []
  },
  {
   "cell_type": "code",
   "execution_count": null,
   "id": "9b2b3b9c",
   "metadata": {},
   "outputs": [],
   "source": []
  },
  {
   "cell_type": "code",
   "execution_count": null,
   "id": "25aa9ffc",
   "metadata": {},
   "outputs": [],
   "source": []
  },
  {
   "cell_type": "code",
   "execution_count": 2,
   "id": "3be5a954",
   "metadata": {},
   "outputs": [
    {
     "ename": "error",
     "evalue": "OpenCV(4.7.0) :-1: error: (-5:Bad argument) in function 'HoughLines'\n> Overload resolution failed:\n>  - 'minLineLength' is an invalid keyword argument for HoughLines()\n>  - 'minLineLength' is an invalid keyword argument for HoughLines()\n",
     "output_type": "error",
     "traceback": [
      "\u001b[1;31m---------------------------------------------------------------------------\u001b[0m",
      "\u001b[1;31merror\u001b[0m                                     Traceback (most recent call last)",
      "Input \u001b[1;32mIn [2]\u001b[0m, in \u001b[0;36m<cell line: 45>\u001b[1;34m()\u001b[0m\n\u001b[0;32m     46\u001b[0m video_path \u001b[38;5;241m=\u001b[39m \u001b[38;5;124m\"\u001b[39m\u001b[38;5;124m1.mp4\u001b[39m\u001b[38;5;124m\"\u001b[39m\n\u001b[0;32m     47\u001b[0m video \u001b[38;5;241m=\u001b[39m cv2\u001b[38;5;241m.\u001b[39mVideoCapture(video_path)\n\u001b[1;32m---> 48\u001b[0m lines, r \u001b[38;5;241m=\u001b[39m \u001b[43mget_lanes\u001b[49m\u001b[43m(\u001b[49m\u001b[43mvideo_path\u001b[49m\u001b[43m)\u001b[49m\n\u001b[0;32m     50\u001b[0m \u001b[38;5;28;01mwhile\u001b[39;00m \u001b[38;5;28;01mTrue\u001b[39;00m:\n\u001b[0;32m     51\u001b[0m     check, frame \u001b[38;5;241m=\u001b[39m video\u001b[38;5;241m.\u001b[39mread()\n",
      "Input \u001b[1;32mIn [2]\u001b[0m, in \u001b[0;36mget_lanes\u001b[1;34m(source)\u001b[0m\n\u001b[0;32m     36\u001b[0m _, thresh \u001b[38;5;241m=\u001b[39m cv2\u001b[38;5;241m.\u001b[39mthreshold(new_masked, \u001b[38;5;241m158\u001b[39m, \u001b[38;5;241m255\u001b[39m, cv2\u001b[38;5;241m.\u001b[39mTHRESH_BINARY)\n\u001b[0;32m     37\u001b[0m edges \u001b[38;5;241m=\u001b[39m cv2\u001b[38;5;241m.\u001b[39mCanny(thresh, \u001b[38;5;28mint\u001b[39m(\u001b[38;5;241m0.3\u001b[39m \u001b[38;5;241m*\u001b[39m \u001b[38;5;241m158\u001b[39m), \u001b[38;5;241m158\u001b[39m)\n\u001b[1;32m---> 39\u001b[0m lane_lines \u001b[38;5;241m=\u001b[39m \u001b[43mcv2\u001b[49m\u001b[38;5;241;43m.\u001b[39;49m\u001b[43mHoughLines\u001b[49m\u001b[43m(\u001b[49m\u001b[43medges\u001b[49m\u001b[43m,\u001b[49m\u001b[43m \u001b[49m\u001b[38;5;241;43m2\u001b[39;49m\u001b[43m,\u001b[49m\u001b[43m \u001b[49m\u001b[43mnp\u001b[49m\u001b[38;5;241;43m.\u001b[39;49m\u001b[43mpi\u001b[49m\u001b[38;5;241;43m/\u001b[39;49m\u001b[38;5;241;43m180\u001b[39;49m\u001b[43m,\u001b[49m\u001b[43m \u001b[49m\u001b[43mthreshold\u001b[49m\u001b[38;5;241;43m=\u001b[39;49m\u001b[38;5;241;43m30\u001b[39;49m\u001b[43m,\u001b[49m\u001b[43m \u001b[49m\u001b[43mminLineLength\u001b[49m\u001b[38;5;241;43m=\u001b[39;49m\u001b[38;5;241;43m15\u001b[39;49m\u001b[43m,\u001b[49m\u001b[43m \u001b[49m\u001b[43mmaxLineGap\u001b[49m\u001b[38;5;241;43m=\u001b[39;49m\u001b[38;5;241;43m48\u001b[39;49m\u001b[43m)\u001b[49m\n\u001b[0;32m     42\u001b[0m \u001b[38;5;28;01mreturn\u001b[39;00m lane_lines, roi\n",
      "\u001b[1;31merror\u001b[0m: OpenCV(4.7.0) :-1: error: (-5:Bad argument) in function 'HoughLines'\n> Overload resolution failed:\n>  - 'minLineLength' is an invalid keyword argument for HoughLines()\n>  - 'minLineLength' is an invalid keyword argument for HoughLines()\n"
     ]
    }
   ],
   "source": [
    "import cv2\n",
    "import numpy as np\n",
    "\n",
    "def get_lanes(source):\n",
    "    first_frame = None\n",
    "    roi = None\n",
    "    video = cv2.VideoCapture(source)\n",
    "    showCrosshair = False\n",
    "    fromCenter = False\n",
    "    lane_lines = None\n",
    "    \n",
    "    # Read only first frame and extract lines\n",
    "    if first_frame is None:\n",
    "        _, first_frame = video.read()\n",
    "        \n",
    "    # Use keyboard and get ROI area\n",
    "    roi = cv2.selectROI(\"Select area\", first_frame, fromCenter, showCrosshair)\n",
    "    \n",
    "    # Crop ROI\n",
    "    imCrop = first_frame[int(roi[1]):int(roi[1]+roi[3]), int(roi[0]):int(roi[0]+roi[2])]\n",
    "    \n",
    "    # Perform dilation to increase size of white color\n",
    "    kernel = np.ones((3,3), np.uint8)\n",
    "    first_frame = cv2.dilate(imCrop, kernel, iterations=1)\n",
    "    \n",
    "    # Convert to gray scale\n",
    "    gray = cv2.cvtColor(first_frame, cv2.COLOR_BGR2GRAY)\n",
    "    \n",
    "    # Threshold the gray image to get only white colors\n",
    "    white_lane_mask = cv2.inRange(gray, 215, 255)\n",
    "    \n",
    "    # Bitwise AND and generate mask\n",
    "    new_masked = cv2.bitwise_and(gray, gray, mask=white_lane_mask)\n",
    "\n",
    "    # Apply threshold\n",
    "    _, thresh = cv2.threshold(new_masked, 158, 255, cv2.THRESH_BINARY)\n",
    "    edges = cv2.Canny(thresh, int(0.3 * 158), 158)\n",
    "\n",
    "    lane_lines = cv2.HoughLines(edges, 1, np.pi/180, threshold=30)\n",
    "\n",
    "\n",
    "    \n",
    "    return lane_lines, roi\n",
    "\n",
    "# This function is the unit test for the above function\n",
    "if __name__ == '__main__':\n",
    "    video_path = \"1.mp4\"\n",
    "    video = cv2.VideoCapture(video_path)\n",
    "    lines, r = get_lanes(video_path)\n",
    "    \n",
    "    while True:\n",
    "        check, frame = video.read()\n",
    "        if check == False:\n",
    "            break\n",
    "        \n",
    "        # Draw line\n",
    "        if lines is not None:\n",
    "            for line in lines:\n",
    "                x1 , y1, x2, y2 = line[0]\n",
    "                cv2.line(frame, (x1 + int(r[0]), y1 + int(r[1])), (x2 + int(r[0]), y2 + int(r[1])), (0, 255, 255), 3)\n",
    "        \n",
    "        # Display output\n",
    "        cv2.imshow(\"Demo\", frame)\n",
    "        \n",
    "        if cv2.waitKey(5) & 0xFF == ord('q'):\n",
    "            break\n",
    "    \n",
    "    video.release()\n",
    "    cv2.destroyAllWindows()\n"
   ]
  },
  {
   "cell_type": "code",
   "execution_count": null,
   "id": "a6716aa0",
   "metadata": {},
   "outputs": [],
   "source": []
  }
 ],
 "metadata": {
  "kernelspec": {
   "display_name": "Python 3 (ipykernel)",
   "language": "python",
   "name": "python3"
  },
  "language_info": {
   "codemirror_mode": {
    "name": "ipython",
    "version": 3
   },
   "file_extension": ".py",
   "mimetype": "text/x-python",
   "name": "python",
   "nbconvert_exporter": "python",
   "pygments_lexer": "ipython3",
   "version": "3.9.12"
  }
 },
 "nbformat": 4,
 "nbformat_minor": 5
}
