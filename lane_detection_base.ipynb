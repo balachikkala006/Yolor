{
 "cells": [
  {
   "cell_type": "code",
   "execution_count": 1,
   "id": "28b67582",
   "metadata": {},
   "outputs": [
    {
     "ename": "KeyboardInterrupt",
     "evalue": "",
     "output_type": "error",
     "traceback": [
      "\u001b[1;31m---------------------------------------------------------------------------\u001b[0m",
      "\u001b[1;31mKeyboardInterrupt\u001b[0m                         Traceback (most recent call last)",
      "Input \u001b[1;32mIn [1]\u001b[0m, in \u001b[0;36m<cell line: 45>\u001b[1;34m()\u001b[0m\n\u001b[0;32m     61\u001b[0m     \u001b[38;5;66;03m# Display output\u001b[39;00m\n\u001b[0;32m     62\u001b[0m     cv2\u001b[38;5;241m.\u001b[39mimshow(\u001b[38;5;124m\"\u001b[39m\u001b[38;5;124mDemo\u001b[39m\u001b[38;5;124m\"\u001b[39m, frame)\n\u001b[1;32m---> 64\u001b[0m     \u001b[38;5;28;01mif\u001b[39;00m \u001b[43mcv2\u001b[49m\u001b[38;5;241;43m.\u001b[39;49m\u001b[43mwaitKey\u001b[49m\u001b[43m(\u001b[49m\u001b[38;5;241;43m5\u001b[39;49m\u001b[43m)\u001b[49m \u001b[38;5;241m&\u001b[39m \u001b[38;5;241m0xFF\u001b[39m \u001b[38;5;241m==\u001b[39m \u001b[38;5;28mord\u001b[39m(\u001b[38;5;124m'\u001b[39m\u001b[38;5;124mq\u001b[39m\u001b[38;5;124m'\u001b[39m):\n\u001b[0;32m     65\u001b[0m         \u001b[38;5;28;01mbreak\u001b[39;00m\n\u001b[0;32m     67\u001b[0m video\u001b[38;5;241m.\u001b[39mrelease()\n",
      "\u001b[1;31mKeyboardInterrupt\u001b[0m: "
     ]
    }
   ],
   "source": [
    "import cv2\n",
    "import numpy as np\n",
    "\n",
    "def get_lanes(source):\n",
    "    first_frame = None\n",
    "    roi = None\n",
    "    video = cv2.VideoCapture(source)\n",
    "    showCrosshair = False\n",
    "    fromCenter = False\n",
    "    lane_lines = None\n",
    "    \n",
    "    # Read only first frame and extract lines\n",
    "    if first_frame is None:\n",
    "        _, first_frame = video.read()\n",
    "        \n",
    "    # Use keyboard and get ROI area\n",
    "    roi = cv2.selectROI(\"Select area\", first_frame, fromCenter, showCrosshair)\n",
    "    \n",
    "    # Crop ROI\n",
    "    imCrop = first_frame[int(roi[1]):int(roi[1]+roi[3]), int(roi[0]):int(roi[0]+roi[2])]\n",
    "    \n",
    "    # Perform dilation to increase size of white color\n",
    "    kernel = np.ones((3,3), np.uint8)\n",
    "    first_frame = cv2.dilate(imCrop, kernel, iterations=1)\n",
    "    \n",
    "    # Convert to gray scale\n",
    "    gray = cv2.cvtColor(first_frame, cv2.COLOR_BGR2GRAY)\n",
    "    \n",
    "    # Threshold the gray image to get only white colors\n",
    "    white_lane_mask = cv2.inRange(gray, 215, 255)\n",
    "    \n",
    "    # Bitwise AND and generate mask\n",
    "    new_masked = cv2.bitwise_and(gray, gray, mask=white_lane_mask)\n",
    "    \n",
    "    # Apply threshold\n",
    "    thresh, gray = cv2.threshold(new_masked, 150, 255, cv2.THRESH_BINARY)\n",
    "    edges = cv2.Canny(gray, 0.3 * thresh, thresh)\n",
    "    \n",
    "    # Use HoughLinesP to detect lines\n",
    "    lane_lines = cv2.HoughLinesP(edges, 2, np.pi/180, 30, minLineLength=15, maxLineGap=40)\n",
    "    \n",
    "    return lane_lines, roi\n",
    "\n",
    "# This function is the unit test for the above function\n",
    "if __name__ == '__main__':\n",
    "    video_path = \"1.mp4\"\n",
    "    video = cv2.VideoCapture(video_path)\n",
    "    lines, r = get_lanes(video_path)\n",
    "    \n",
    "    while True:\n",
    "        check, frame = video.read()\n",
    "        if check == False:\n",
    "            break\n",
    "        \n",
    "        # Draw line\n",
    "        if lines is not None:\n",
    "            for line in lines:\n",
    "                x1 , y1, x2, y2 = line[0]\n",
    "                cv2.line(frame, (x1 + r[0], y1 + r[1]), (x2 + r[0], y2 + r[1]), (0, 255, 255), 3)\n",
    "        \n",
    "        # Display output\n",
    "        cv2.imshow(\"Demo\", frame)\n",
    "        \n",
    "        if cv2.waitKey(5) & 0xFF == ord('q'):\n",
    "            break\n",
    "    \n",
    "    video.release()\n",
    "    cv2.destroyAllWindows() \n"
   ]
  },
  {
   "cell_type": "code",
   "execution_count": null,
   "id": "1869e6b7",
   "metadata": {},
   "outputs": [],
   "source": []
  }
 ],
 "metadata": {
  "kernelspec": {
   "display_name": "Python 3 (ipykernel)",
   "language": "python",
   "name": "python3"
  },
  "language_info": {
   "codemirror_mode": {
    "name": "ipython",
    "version": 3
   },
   "file_extension": ".py",
   "mimetype": "text/x-python",
   "name": "python",
   "nbconvert_exporter": "python",
   "pygments_lexer": "ipython3",
   "version": "3.9.12"
  }
 },
 "nbformat": 4,
 "nbformat_minor": 5
}
